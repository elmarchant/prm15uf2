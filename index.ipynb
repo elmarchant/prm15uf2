{
 "cells": [
  {
   "cell_type": "code",
   "execution_count": 1,
   "id": "70e00078",
   "metadata": {},
   "outputs": [],
   "source": [
    "from src.classes.LoadMatchData import LoadMatchData\n",
    "from src.classes.Match import Match\n",
    "from src.classes.Team import Team\n",
    "\n",
    "data = LoadMatchData(\"./src/data/main.csv\")\n",
    "partidos = data.getGames()"
   ]
  },
  {
   "cell_type": "code",
   "execution_count": 2,
   "id": "91f85d83",
   "metadata": {},
   "outputs": [
    {
     "name": "stdout",
     "output_type": "stream",
     "text": [
      "23-06-2018 | Belgium - Tunisia\n",
      "23-06-2018 | Korea Republic - Mexico\n",
      "23-06-2018 | Germany - Sweden\n"
     ]
    }
   ],
   "source": [
    "for partido in partidos:\n",
    "    if partido.getDate() == \"23-06-2018\":\n",
    "        print(partido)"
   ]
  },
  {
   "cell_type": "code",
   "execution_count": 3,
   "id": "9ce93877",
   "metadata": {},
   "outputs": [
    {
     "name": "stdout",
     "output_type": "stream",
     "text": [
      "Mexico\n"
     ]
    }
   ],
   "source": [
    "for partido in partidos:\n",
    "    if partido.getID() == \"23-06-2018 | Korea Republic - Mexico\":\n",
    "        print(partido.visitor)\n",
    "        break"
   ]
  }
 ],
 "metadata": {
  "interpreter": {
   "hash": "63fd5069d213b44bf678585dea6b12cceca9941eaf7f819626cde1f2670de90d"
  },
  "kernelspec": {
   "display_name": "Python 3 (ipykernel)",
   "language": "python",
   "name": "python3"
  },
  "language_info": {
   "codemirror_mode": {
    "name": "ipython",
    "version": 3
   },
   "file_extension": ".py",
   "mimetype": "text/x-python",
   "name": "python",
   "nbconvert_exporter": "python",
   "pygments_lexer": "ipython3",
   "version": "3.9.7"
  }
 },
 "nbformat": 4,
 "nbformat_minor": 5
}
