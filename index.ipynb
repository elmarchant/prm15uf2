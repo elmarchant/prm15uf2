{
 "cells": [
  {
   "cell_type": "code",
   "execution_count": 6,
   "id": "70e00078",
   "metadata": {},
   "outputs": [],
   "source": [
    "from src.classes.LoadMatchData import LoadMatchData\n",
    "from src.classes.Match import Match\n",
    "from src.classes.Team import Team\n",
    "\n",
    "data = LoadMatchData(\"./src/data/main.csv\")\n",
    "partidos = data.getGames()"
   ]
  },
  {
   "cell_type": "code",
   "execution_count": 7,
   "id": "91f85d83",
   "metadata": {},
   "outputs": [
    {
     "name": "stdout",
     "output_type": "stream",
     "text": [
      "22-06-2018 | Brazil - Costa Rica\n",
      "22-06-2018 | Nigeria - Iceland\n",
      "22-06-2018 | Serbia - Switzerland\n",
      "22-06-2018 | Brazil - Costa Rica\n",
      "22-06-2018 | Nigeria - Iceland\n",
      "22-06-2018 | Serbia - Switzerland\n",
      "22-06-2018 | Brazil - Costa Rica\n",
      "22-06-2018 | Nigeria - Iceland\n",
      "22-06-2018 | Serbia - Switzerland\n",
      "22-06-2018 | Brazil - Costa Rica\n",
      "22-06-2018 | Nigeria - Iceland\n",
      "22-06-2018 | Serbia - Switzerland\n"
     ]
    }
   ],
   "source": [
    "for partido in partidos:\n",
    "    if partido.getDate() == \"22-06-2018\":\n",
    "        print(partido)"
   ]
  }
 ],
 "metadata": {
  "interpreter": {
   "hash": "63fd5069d213b44bf678585dea6b12cceca9941eaf7f819626cde1f2670de90d"
  },
  "kernelspec": {
   "display_name": "Python 3 (ipykernel)",
   "language": "python",
   "name": "python3"
  },
  "language_info": {
   "codemirror_mode": {
    "name": "ipython",
    "version": 3
   },
   "file_extension": ".py",
   "mimetype": "text/x-python",
   "name": "python",
   "nbconvert_exporter": "python",
   "pygments_lexer": "ipython3",
   "version": "3.9.7"
  }
 },
 "nbformat": 4,
 "nbformat_minor": 5
}
